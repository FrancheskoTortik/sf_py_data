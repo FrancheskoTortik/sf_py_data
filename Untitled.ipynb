{
 "cells": [
  {
   "cell_type": "code",
   "execution_count": 4,
   "metadata": {},
   "outputs": [],
   "source": [
    "from datetime import datetime, timedelta\n",
    "import pandas as pd"
   ]
  },
  {
   "cell_type": "markdown",
   "metadata": {},
   "source": [
    "# Метод strptime преобразует строку в объект типа dateime\n",
    "### Для этого задается шаблон. учитывающий все знаки препинания, включая табуляцию и пробелы\n",
    "\n"
   ]
  },
  {
   "cell_type": "code",
   "execution_count": 6,
   "metadata": {},
   "outputs": [
    {
     "data": {
      "text/plain": [
       "datetime.datetime(2016, 10, 5, 23, 18)"
      ]
     },
     "execution_count": 6,
     "metadata": {},
     "output_type": "execute_result"
    }
   ],
   "source": [
    "date_string = '05.10.2016  23:18'\n",
    "datetime.strptime( date_string, '%d.%m.%Y %H:%M' )"
   ]
  },
  {
   "cell_type": "markdown",
   "metadata": {},
   "source": [
    "#### С помощью метода datetime.strptime переведите строку 'May 9 2017 9:00AM' в формат datetime. Выделите и запишите номер часа в этой дате (в виде целого числа). Подсказка: у обозначения месяца May формат %b, у AM - %p"
   ]
  },
  {
   "cell_type": "code",
   "execution_count": 9,
   "metadata": {},
   "outputs": [],
   "source": [
    "startDate = '2017-01-01'\n",
    "\n",
    "startDate_datetime = datetime.strptime( startDate, '%Y-%m-%d' )"
   ]
  },
  {
   "cell_type": "markdown",
   "metadata": {},
   "source": [
    "### При помощи timedelta мы можем прибавить любой промежуток времени указав его аргументом."
   ]
  },
  {
   "cell_type": "code",
   "execution_count": 11,
   "metadata": {},
   "outputs": [],
   "source": [
    "date2 = startDate_datetime + timedelta(days=1)"
   ]
  },
  {
   "cell_type": "code",
   "execution_count": 12,
   "metadata": {},
   "outputs": [
    {
     "data": {
      "text/plain": [
       "datetime.datetime(2017, 1, 2, 0, 0)"
      ]
     },
     "execution_count": 12,
     "metadata": {},
     "output_type": "execute_result"
    }
   ],
   "source": [
    "date2"
   ]
  },
  {
   "cell_type": "markdown",
   "metadata": {},
   "source": [
    "### После всех преобразований возвращаем время обратно в строку"
   ]
  },
  {
   "cell_type": "code",
   "execution_count": 14,
   "metadata": {
    "scrolled": true
   },
   "outputs": [
    {
     "data": {
      "text/plain": [
       "'2017-01-01 00:00:00'"
      ]
     },
     "execution_count": 14,
     "metadata": {},
     "output_type": "execute_result"
    }
   ],
   "source": [
    "startDate_datetime.strftime( '%Y-%m-%d %H:%M:%S' )"
   ]
  },
  {
   "cell_type": "markdown",
   "metadata": {},
   "source": [
    "### Перебор дат в цикле\n",
    "#### Потренируемся на простом примере. Представим, что нам необходимо из огромной таблицы с данными за год выяснить показатели за новогодние праздники с 1 по 7 января, и научимся в этом шаге перебирать необходимые даты. "
   ]
  },
  {
   "cell_type": "code",
   "execution_count": 15,
   "metadata": {},
   "outputs": [],
   "source": [
    "startDate = '2017-01-01'\n",
    "endDate = '2017-01-07'\n"
   ]
  },
  {
   "cell_type": "code",
   "execution_count": 16,
   "metadata": {},
   "outputs": [],
   "source": [
    "startDate_datetime = datetime.strptime( startDate, '%Y-%m-%d' )\n",
    "endDate_datetime = datetime.strptime( endDate, '%Y-%m-%d' )"
   ]
  },
  {
   "cell_type": "code",
   "execution_count": 17,
   "metadata": {},
   "outputs": [],
   "source": [
    "current_day = startDate_datetime"
   ]
  },
  {
   "cell_type": "code",
   "execution_count": 18,
   "metadata": {},
   "outputs": [
    {
     "name": "stdout",
     "output_type": "stream",
     "text": [
      "2017-01-01 00:00:00\n",
      "2017-01-02 00:00:00\n",
      "2017-01-03 00:00:00\n",
      "2017-01-04 00:00:00\n",
      "2017-01-05 00:00:00\n",
      "2017-01-06 00:00:00\n",
      "2017-01-07 00:00:00\n"
     ]
    }
   ],
   "source": [
    "current_day = startDate_datetime\n",
    "while current_day <= endDate_datetime:\n",
    "    print( current_day )    \n",
    "    current_day += timedelta( days = 1 )"
   ]
  },
  {
   "cell_type": "markdown",
   "metadata": {},
   "source": [
    "### Вывод на экран дней между датами"
   ]
  },
  {
   "cell_type": "code",
   "execution_count": 22,
   "metadata": {
    "scrolled": true
   },
   "outputs": [
    {
     "name": "stdout",
     "output_type": "stream",
     "text": [
      "2017-01-01\n",
      "2017-01-02\n",
      "2017-01-03\n",
      "2017-01-04\n",
      "2017-01-05\n",
      "2017-01-06\n",
      "2017-01-07\n"
     ]
    }
   ],
   "source": [
    "current_day = startDate_datetime\n",
    "while current_day <= endDate_datetime:\n",
    "    print( current_day.strftime( '%Y-%m-%d' ) )\n",
    "    current_day += timedelta( days = 1 )"
   ]
  },
  {
   "cell_type": "markdown",
   "metadata": {},
   "source": [
    "### Вывод на экран часов между двумя датами"
   ]
  },
  {
   "cell_type": "code",
   "execution_count": 20,
   "metadata": {},
   "outputs": [
    {
     "name": "stdout",
     "output_type": "stream",
     "text": [
      "2017-01-01 00:00:00\n",
      "2017-01-01 01:00:00\n",
      "2017-01-01 02:00:00\n",
      "2017-01-01 03:00:00\n",
      "2017-01-01 04:00:00\n",
      "2017-01-01 05:00:00\n",
      "2017-01-01 06:00:00\n",
      "2017-01-01 07:00:00\n",
      "2017-01-01 08:00:00\n",
      "2017-01-01 09:00:00\n",
      "2017-01-01 10:00:00\n",
      "2017-01-01 11:00:00\n",
      "2017-01-01 12:00:00\n",
      "2017-01-01 13:00:00\n",
      "2017-01-01 14:00:00\n",
      "2017-01-01 15:00:00\n",
      "2017-01-01 16:00:00\n",
      "2017-01-01 17:00:00\n",
      "2017-01-01 18:00:00\n",
      "2017-01-01 19:00:00\n",
      "2017-01-01 20:00:00\n",
      "2017-01-01 21:00:00\n",
      "2017-01-01 22:00:00\n",
      "2017-01-01 23:00:00\n",
      "2017-01-02 00:00:00\n",
      "2017-01-02 01:00:00\n",
      "2017-01-02 02:00:00\n",
      "2017-01-02 03:00:00\n",
      "2017-01-02 04:00:00\n",
      "2017-01-02 05:00:00\n",
      "2017-01-02 06:00:00\n",
      "2017-01-02 07:00:00\n",
      "2017-01-02 08:00:00\n",
      "2017-01-02 09:00:00\n",
      "2017-01-02 10:00:00\n",
      "2017-01-02 11:00:00\n",
      "2017-01-02 12:00:00\n",
      "2017-01-02 13:00:00\n",
      "2017-01-02 14:00:00\n",
      "2017-01-02 15:00:00\n",
      "2017-01-02 16:00:00\n",
      "2017-01-02 17:00:00\n",
      "2017-01-02 18:00:00\n",
      "2017-01-02 19:00:00\n",
      "2017-01-02 20:00:00\n",
      "2017-01-02 21:00:00\n",
      "2017-01-02 22:00:00\n",
      "2017-01-02 23:00:00\n",
      "2017-01-03 00:00:00\n",
      "2017-01-03 01:00:00\n",
      "2017-01-03 02:00:00\n",
      "2017-01-03 03:00:00\n",
      "2017-01-03 04:00:00\n",
      "2017-01-03 05:00:00\n",
      "2017-01-03 06:00:00\n",
      "2017-01-03 07:00:00\n",
      "2017-01-03 08:00:00\n",
      "2017-01-03 09:00:00\n",
      "2017-01-03 10:00:00\n",
      "2017-01-03 11:00:00\n",
      "2017-01-03 12:00:00\n",
      "2017-01-03 13:00:00\n",
      "2017-01-03 14:00:00\n",
      "2017-01-03 15:00:00\n",
      "2017-01-03 16:00:00\n",
      "2017-01-03 17:00:00\n",
      "2017-01-03 18:00:00\n",
      "2017-01-03 19:00:00\n",
      "2017-01-03 20:00:00\n",
      "2017-01-03 21:00:00\n",
      "2017-01-03 22:00:00\n",
      "2017-01-03 23:00:00\n",
      "2017-01-04 00:00:00\n",
      "2017-01-04 01:00:00\n",
      "2017-01-04 02:00:00\n",
      "2017-01-04 03:00:00\n",
      "2017-01-04 04:00:00\n",
      "2017-01-04 05:00:00\n",
      "2017-01-04 06:00:00\n",
      "2017-01-04 07:00:00\n",
      "2017-01-04 08:00:00\n",
      "2017-01-04 09:00:00\n",
      "2017-01-04 10:00:00\n",
      "2017-01-04 11:00:00\n",
      "2017-01-04 12:00:00\n",
      "2017-01-04 13:00:00\n",
      "2017-01-04 14:00:00\n",
      "2017-01-04 15:00:00\n",
      "2017-01-04 16:00:00\n",
      "2017-01-04 17:00:00\n",
      "2017-01-04 18:00:00\n",
      "2017-01-04 19:00:00\n",
      "2017-01-04 20:00:00\n",
      "2017-01-04 21:00:00\n",
      "2017-01-04 22:00:00\n",
      "2017-01-04 23:00:00\n",
      "2017-01-05 00:00:00\n",
      "2017-01-05 01:00:00\n",
      "2017-01-05 02:00:00\n",
      "2017-01-05 03:00:00\n",
      "2017-01-05 04:00:00\n",
      "2017-01-05 05:00:00\n",
      "2017-01-05 06:00:00\n",
      "2017-01-05 07:00:00\n",
      "2017-01-05 08:00:00\n",
      "2017-01-05 09:00:00\n",
      "2017-01-05 10:00:00\n",
      "2017-01-05 11:00:00\n",
      "2017-01-05 12:00:00\n",
      "2017-01-05 13:00:00\n",
      "2017-01-05 14:00:00\n",
      "2017-01-05 15:00:00\n",
      "2017-01-05 16:00:00\n",
      "2017-01-05 17:00:00\n",
      "2017-01-05 18:00:00\n",
      "2017-01-05 19:00:00\n",
      "2017-01-05 20:00:00\n",
      "2017-01-05 21:00:00\n",
      "2017-01-05 22:00:00\n",
      "2017-01-05 23:00:00\n",
      "2017-01-06 00:00:00\n",
      "2017-01-06 01:00:00\n",
      "2017-01-06 02:00:00\n",
      "2017-01-06 03:00:00\n",
      "2017-01-06 04:00:00\n",
      "2017-01-06 05:00:00\n",
      "2017-01-06 06:00:00\n",
      "2017-01-06 07:00:00\n",
      "2017-01-06 08:00:00\n",
      "2017-01-06 09:00:00\n",
      "2017-01-06 10:00:00\n",
      "2017-01-06 11:00:00\n",
      "2017-01-06 12:00:00\n",
      "2017-01-06 13:00:00\n",
      "2017-01-06 14:00:00\n",
      "2017-01-06 15:00:00\n",
      "2017-01-06 16:00:00\n",
      "2017-01-06 17:00:00\n",
      "2017-01-06 18:00:00\n",
      "2017-01-06 19:00:00\n",
      "2017-01-06 20:00:00\n",
      "2017-01-06 21:00:00\n",
      "2017-01-06 22:00:00\n",
      "2017-01-06 23:00:00\n",
      "2017-01-07 00:00:00\n"
     ]
    }
   ],
   "source": [
    "current_day = startDate_datetime\n",
    "while current_day <= endDate_datetime:\n",
    "    print( current_day.strftime( '%Y-%m-%d %H:%M:%S' ) )\n",
    "    current_day += timedelta( hours = 1 )"
   ]
  },
  {
   "cell_type": "markdown",
   "metadata": {},
   "source": [
    "### Фукнция для перечня дат между двумя точками"
   ]
  },
  {
   "cell_type": "code",
   "execution_count": 21,
   "metadata": {},
   "outputs": [],
   "source": [
    "def date_range(start_date, end_date):\n",
    "    \"\"\"\n",
    "    Возвращает список дат между start_date и end_date с шагом в день.\n",
    "    Если start_date > end_date, то возвращает пустой список. \n",
    "    Пример\n",
    "    date_range('2018-01-01', '2018-01-07')\n",
    "    [\n",
    "        '2018-01-01',\n",
    "        '2018-01-02',\n",
    "        '2018-01-03',\n",
    "        '2018-01-04',\n",
    "        '2018-01-05',\n",
    "        '2018-01-06',\n",
    "        '2018-01-07'\n",
    "    ]\n",
    "    \"\"\" \n",
    "    date_range_list = []\n",
    "    current_date = start_date  \n",
    "    current_date_dt = datetime.strptime(start_date, '%Y-%m-%d')\n",
    "    end_date_dt = datetime.strptime(end_date, '%Y-%m-%d')   \n",
    "    while current_date_dt <= end_date_dt:\n",
    "        date_range_list.append(current_date)        \n",
    "        current_date_dt += timedelta(days=1)\n",
    "        current_date = current_date_dt.strftime('%Y-%m-%d')    \n",
    "    return date_range_list"
   ]
  },
  {
   "cell_type": "code",
   "execution_count": 26,
   "metadata": {},
   "outputs": [],
   "source": [
    "life_time = pd.read_csv('data.tsv', sep='\\t')"
   ]
  },
  {
   "cell_type": "code",
   "execution_count": 27,
   "metadata": {},
   "outputs": [
    {
     "data": {
      "text/html": [
       "<div>\n",
       "<style scoped>\n",
       "    .dataframe tbody tr th:only-of-type {\n",
       "        vertical-align: middle;\n",
       "    }\n",
       "\n",
       "    .dataframe tbody tr th {\n",
       "        vertical-align: top;\n",
       "    }\n",
       "\n",
       "    .dataframe thead th {\n",
       "        text-align: right;\n",
       "    }\n",
       "</style>\n",
       "<table border=\"1\" class=\"dataframe\">\n",
       "  <thead>\n",
       "    <tr style=\"text-align: right;\">\n",
       "      <th></th>\n",
       "      <th>id</th>\n",
       "      <th>date</th>\n",
       "      <th>user_id</th>\n",
       "      <th>duration</th>\n",
       "      <th>medium</th>\n",
       "      <th>source</th>\n",
       "      <th>cost</th>\n",
       "      <th>order_id</th>\n",
       "      <th>amount_paid</th>\n",
       "    </tr>\n",
       "  </thead>\n",
       "  <tbody>\n",
       "    <tr>\n",
       "      <th>0</th>\n",
       "      <td>40443</td>\n",
       "      <td>05.10.2016 23:18</td>\n",
       "      <td>1010</td>\n",
       "      <td>0.000926</td>\n",
       "      <td>seo</td>\n",
       "      <td>google</td>\n",
       "      <td>0.00</td>\n",
       "      <td>6243</td>\n",
       "      <td>20.2</td>\n",
       "    </tr>\n",
       "    <tr>\n",
       "      <th>1</th>\n",
       "      <td>35044</td>\n",
       "      <td>09.10.2016 21:40</td>\n",
       "      <td>1036</td>\n",
       "      <td>0.006493</td>\n",
       "      <td>sem</td>\n",
       "      <td>yandex</td>\n",
       "      <td>0.07</td>\n",
       "      <td>6145</td>\n",
       "      <td>15.6</td>\n",
       "    </tr>\n",
       "    <tr>\n",
       "      <th>2</th>\n",
       "      <td>40177</td>\n",
       "      <td>05.10.2016 3:23</td>\n",
       "      <td>1041</td>\n",
       "      <td>0.003380</td>\n",
       "      <td>email</td>\n",
       "      <td>promo</td>\n",
       "      <td>0.00</td>\n",
       "      <td>6128</td>\n",
       "      <td>13.2</td>\n",
       "    </tr>\n",
       "    <tr>\n",
       "      <th>3</th>\n",
       "      <td>39401</td>\n",
       "      <td>05.10.2016 23:19</td>\n",
       "      <td>1041</td>\n",
       "      <td>0.000463</td>\n",
       "      <td>sem</td>\n",
       "      <td>yandex</td>\n",
       "      <td>0.03</td>\n",
       "      <td>6697</td>\n",
       "      <td>9.8</td>\n",
       "    </tr>\n",
       "    <tr>\n",
       "      <th>4</th>\n",
       "      <td>41545</td>\n",
       "      <td>01.10.2016 4:57</td>\n",
       "      <td>1042</td>\n",
       "      <td>0.006493</td>\n",
       "      <td>sem</td>\n",
       "      <td>google</td>\n",
       "      <td>0.06</td>\n",
       "      <td>4510</td>\n",
       "      <td>14.8</td>\n",
       "    </tr>\n",
       "  </tbody>\n",
       "</table>\n",
       "</div>"
      ],
      "text/plain": [
       "      id              date  user_id  duration medium  source  cost  order_id  \\\n",
       "0  40443  05.10.2016 23:18     1010  0.000926    seo  google  0.00      6243   \n",
       "1  35044  09.10.2016 21:40     1036  0.006493    sem  yandex  0.07      6145   \n",
       "2  40177   05.10.2016 3:23     1041  0.003380  email   promo  0.00      6128   \n",
       "3  39401  05.10.2016 23:19     1041  0.000463    sem  yandex  0.03      6697   \n",
       "4  41545   01.10.2016 4:57     1042  0.006493    sem  google  0.06      4510   \n",
       "\n",
       "   amount_paid  \n",
       "0         20.2  \n",
       "1         15.6  \n",
       "2         13.2  \n",
       "3          9.8  \n",
       "4         14.8  "
      ]
     },
     "execution_count": 27,
     "metadata": {},
     "output_type": "execute_result"
    }
   ],
   "source": [
    "life_time.head()"
   ]
  },
  {
   "cell_type": "markdown",
   "metadata": {},
   "source": [
    "### Переведем столбец date в тип datetime с помощью функции:"
   ]
  },
  {
   "cell_type": "code",
   "execution_count": 29,
   "metadata": {},
   "outputs": [],
   "source": [
    "def convert_to_datetime(row):\n",
    "    return datetime.strptime(row['date'], '%d.%m.%Y %H:%M')"
   ]
  },
  {
   "cell_type": "code",
   "execution_count": 31,
   "metadata": {},
   "outputs": [
    {
     "data": {
      "text/html": [
       "<div>\n",
       "<style scoped>\n",
       "    .dataframe tbody tr th:only-of-type {\n",
       "        vertical-align: middle;\n",
       "    }\n",
       "\n",
       "    .dataframe tbody tr th {\n",
       "        vertical-align: top;\n",
       "    }\n",
       "\n",
       "    .dataframe thead th {\n",
       "        text-align: right;\n",
       "    }\n",
       "</style>\n",
       "<table border=\"1\" class=\"dataframe\">\n",
       "  <thead>\n",
       "    <tr style=\"text-align: right;\">\n",
       "      <th></th>\n",
       "      <th>id</th>\n",
       "      <th>date</th>\n",
       "      <th>user_id</th>\n",
       "      <th>duration</th>\n",
       "      <th>medium</th>\n",
       "      <th>source</th>\n",
       "      <th>cost</th>\n",
       "      <th>order_id</th>\n",
       "      <th>amount_paid</th>\n",
       "      <th>datetime</th>\n",
       "    </tr>\n",
       "  </thead>\n",
       "  <tbody>\n",
       "    <tr>\n",
       "      <th>0</th>\n",
       "      <td>40443</td>\n",
       "      <td>05.10.2016 23:18</td>\n",
       "      <td>1010</td>\n",
       "      <td>0.000926</td>\n",
       "      <td>seo</td>\n",
       "      <td>google</td>\n",
       "      <td>0.00</td>\n",
       "      <td>6243</td>\n",
       "      <td>20.2</td>\n",
       "      <td>2016-10-05 23:18:00</td>\n",
       "    </tr>\n",
       "    <tr>\n",
       "      <th>1</th>\n",
       "      <td>35044</td>\n",
       "      <td>09.10.2016 21:40</td>\n",
       "      <td>1036</td>\n",
       "      <td>0.006493</td>\n",
       "      <td>sem</td>\n",
       "      <td>yandex</td>\n",
       "      <td>0.07</td>\n",
       "      <td>6145</td>\n",
       "      <td>15.6</td>\n",
       "      <td>2016-10-09 21:40:00</td>\n",
       "    </tr>\n",
       "    <tr>\n",
       "      <th>2</th>\n",
       "      <td>40177</td>\n",
       "      <td>05.10.2016 3:23</td>\n",
       "      <td>1041</td>\n",
       "      <td>0.003380</td>\n",
       "      <td>email</td>\n",
       "      <td>promo</td>\n",
       "      <td>0.00</td>\n",
       "      <td>6128</td>\n",
       "      <td>13.2</td>\n",
       "      <td>2016-10-05 03:23:00</td>\n",
       "    </tr>\n",
       "    <tr>\n",
       "      <th>3</th>\n",
       "      <td>39401</td>\n",
       "      <td>05.10.2016 23:19</td>\n",
       "      <td>1041</td>\n",
       "      <td>0.000463</td>\n",
       "      <td>sem</td>\n",
       "      <td>yandex</td>\n",
       "      <td>0.03</td>\n",
       "      <td>6697</td>\n",
       "      <td>9.8</td>\n",
       "      <td>2016-10-05 23:19:00</td>\n",
       "    </tr>\n",
       "    <tr>\n",
       "      <th>4</th>\n",
       "      <td>41545</td>\n",
       "      <td>01.10.2016 4:57</td>\n",
       "      <td>1042</td>\n",
       "      <td>0.006493</td>\n",
       "      <td>sem</td>\n",
       "      <td>google</td>\n",
       "      <td>0.06</td>\n",
       "      <td>4510</td>\n",
       "      <td>14.8</td>\n",
       "      <td>2016-10-01 04:57:00</td>\n",
       "    </tr>\n",
       "  </tbody>\n",
       "</table>\n",
       "</div>"
      ],
      "text/plain": [
       "      id              date  user_id  duration medium  source  cost  order_id  \\\n",
       "0  40443  05.10.2016 23:18     1010  0.000926    seo  google  0.00      6243   \n",
       "1  35044  09.10.2016 21:40     1036  0.006493    sem  yandex  0.07      6145   \n",
       "2  40177   05.10.2016 3:23     1041  0.003380  email   promo  0.00      6128   \n",
       "3  39401  05.10.2016 23:19     1041  0.000463    sem  yandex  0.03      6697   \n",
       "4  41545   01.10.2016 4:57     1042  0.006493    sem  google  0.06      4510   \n",
       "\n",
       "   amount_paid            datetime  \n",
       "0         20.2 2016-10-05 23:18:00  \n",
       "1         15.6 2016-10-09 21:40:00  \n",
       "2         13.2 2016-10-05 03:23:00  \n",
       "3          9.8 2016-10-05 23:19:00  \n",
       "4         14.8 2016-10-01 04:57:00  "
      ]
     },
     "execution_count": 31,
     "metadata": {},
     "output_type": "execute_result"
    }
   ],
   "source": [
    "life_time['datetime'] = life_time.apply(convert_to_datetime, axis=1)\n",
    "life_time.head()"
   ]
  },
  {
   "cell_type": "markdown",
   "metadata": {},
   "source": [
    "### Для подсчета разницы в датах есть много методов. Одним из самых простых является перевод времени в формат unixtime. Он означает количество секунд, прошедшее с 1 января 1970 года. Этот формат очень популярен и используется во многих системах. "
   ]
  },
  {
   "cell_type": "code",
   "execution_count": 32,
   "metadata": {},
   "outputs": [],
   "source": [
    "import time\n",
    "def make_unix_time(row):\n",
    "    return time.mktime(row['datetime'].timetuple())"
   ]
  },
  {
   "cell_type": "code",
   "execution_count": 34,
   "metadata": {},
   "outputs": [
    {
     "data": {
      "text/html": [
       "<div>\n",
       "<style scoped>\n",
       "    .dataframe tbody tr th:only-of-type {\n",
       "        vertical-align: middle;\n",
       "    }\n",
       "\n",
       "    .dataframe tbody tr th {\n",
       "        vertical-align: top;\n",
       "    }\n",
       "\n",
       "    .dataframe thead th {\n",
       "        text-align: right;\n",
       "    }\n",
       "</style>\n",
       "<table border=\"1\" class=\"dataframe\">\n",
       "  <thead>\n",
       "    <tr style=\"text-align: right;\">\n",
       "      <th></th>\n",
       "      <th>id</th>\n",
       "      <th>date</th>\n",
       "      <th>user_id</th>\n",
       "      <th>duration</th>\n",
       "      <th>medium</th>\n",
       "      <th>source</th>\n",
       "      <th>cost</th>\n",
       "      <th>order_id</th>\n",
       "      <th>amount_paid</th>\n",
       "      <th>datetime</th>\n",
       "      <th>unixtime</th>\n",
       "    </tr>\n",
       "  </thead>\n",
       "  <tbody>\n",
       "    <tr>\n",
       "      <th>0</th>\n",
       "      <td>40443</td>\n",
       "      <td>05.10.2016 23:18</td>\n",
       "      <td>1010</td>\n",
       "      <td>0.000926</td>\n",
       "      <td>seo</td>\n",
       "      <td>google</td>\n",
       "      <td>0.00</td>\n",
       "      <td>6243</td>\n",
       "      <td>20.2</td>\n",
       "      <td>2016-10-05 23:18:00</td>\n",
       "      <td>1.475699e+09</td>\n",
       "    </tr>\n",
       "    <tr>\n",
       "      <th>1</th>\n",
       "      <td>35044</td>\n",
       "      <td>09.10.2016 21:40</td>\n",
       "      <td>1036</td>\n",
       "      <td>0.006493</td>\n",
       "      <td>sem</td>\n",
       "      <td>yandex</td>\n",
       "      <td>0.07</td>\n",
       "      <td>6145</td>\n",
       "      <td>15.6</td>\n",
       "      <td>2016-10-09 21:40:00</td>\n",
       "      <td>1.476038e+09</td>\n",
       "    </tr>\n",
       "    <tr>\n",
       "      <th>2</th>\n",
       "      <td>40177</td>\n",
       "      <td>05.10.2016 3:23</td>\n",
       "      <td>1041</td>\n",
       "      <td>0.003380</td>\n",
       "      <td>email</td>\n",
       "      <td>promo</td>\n",
       "      <td>0.00</td>\n",
       "      <td>6128</td>\n",
       "      <td>13.2</td>\n",
       "      <td>2016-10-05 03:23:00</td>\n",
       "      <td>1.475627e+09</td>\n",
       "    </tr>\n",
       "    <tr>\n",
       "      <th>3</th>\n",
       "      <td>39401</td>\n",
       "      <td>05.10.2016 23:19</td>\n",
       "      <td>1041</td>\n",
       "      <td>0.000463</td>\n",
       "      <td>sem</td>\n",
       "      <td>yandex</td>\n",
       "      <td>0.03</td>\n",
       "      <td>6697</td>\n",
       "      <td>9.8</td>\n",
       "      <td>2016-10-05 23:19:00</td>\n",
       "      <td>1.475699e+09</td>\n",
       "    </tr>\n",
       "    <tr>\n",
       "      <th>4</th>\n",
       "      <td>41545</td>\n",
       "      <td>01.10.2016 4:57</td>\n",
       "      <td>1042</td>\n",
       "      <td>0.006493</td>\n",
       "      <td>sem</td>\n",
       "      <td>google</td>\n",
       "      <td>0.06</td>\n",
       "      <td>4510</td>\n",
       "      <td>14.8</td>\n",
       "      <td>2016-10-01 04:57:00</td>\n",
       "      <td>1.475287e+09</td>\n",
       "    </tr>\n",
       "  </tbody>\n",
       "</table>\n",
       "</div>"
      ],
      "text/plain": [
       "      id              date  user_id  duration medium  source  cost  order_id  \\\n",
       "0  40443  05.10.2016 23:18     1010  0.000926    seo  google  0.00      6243   \n",
       "1  35044  09.10.2016 21:40     1036  0.006493    sem  yandex  0.07      6145   \n",
       "2  40177   05.10.2016 3:23     1041  0.003380  email   promo  0.00      6128   \n",
       "3  39401  05.10.2016 23:19     1041  0.000463    sem  yandex  0.03      6697   \n",
       "4  41545   01.10.2016 4:57     1042  0.006493    sem  google  0.06      4510   \n",
       "\n",
       "   amount_paid            datetime      unixtime  \n",
       "0         20.2 2016-10-05 23:18:00  1.475699e+09  \n",
       "1         15.6 2016-10-09 21:40:00  1.476038e+09  \n",
       "2         13.2 2016-10-05 03:23:00  1.475627e+09  \n",
       "3          9.8 2016-10-05 23:19:00  1.475699e+09  \n",
       "4         14.8 2016-10-01 04:57:00  1.475287e+09  "
      ]
     },
     "execution_count": 34,
     "metadata": {},
     "output_type": "execute_result"
    }
   ],
   "source": [
    "life_time['unixtime'] = life_time.apply(make_unix_time, axis=1)\n",
    "life_time.head()"
   ]
  },
  {
   "cell_type": "markdown",
   "metadata": {},
   "source": [
    "# Выполнение ДЗ при помощи говнокода"
   ]
  },
  {
   "cell_type": "code",
   "execution_count": 80,
   "metadata": {},
   "outputs": [
    {
     "data": {
      "text/plain": [
       "'\\nДОМАШНЕЕ ЗАДАНИЕ\\nДля завершения подсчета lifetime вам необходимо сделать следующее:\\n\\n1. Сгруппировать датафрейм data по столбцу user_id, посчитав для столбца unixtime максимальное и минимальное значение для каждого пользователя.\\n\\n2. Посчитать столбец diff с разностью максимального и минимального значения столбца unixtime из пункта 1.\\n\\n3. Исключить из расчета пользователей, у которых разница diff равна 0.\\n\\n4. Посчитать среднее значение столбца diff после фильтрации.\\n\\n5. Вы получите ответ в секундах. Пересчитайте его в количество дней.\\n\\n'"
      ]
     },
     "execution_count": 80,
     "metadata": {},
     "output_type": "execute_result"
    }
   ],
   "source": [
    "\"\"\"\n",
    "ДОМАШНЕЕ ЗАДАНИЕ\n",
    "Для завершения подсчета lifetime вам необходимо сделать следующее:\n",
    "\n",
    "1. Сгруппировать датафрейм data по столбцу user_id, посчитав для столбца unixtime максимальное и минимальное значение для каждого пользователя.\n",
    "\n",
    "2. Посчитать столбец diff с разностью максимального и минимального значения столбца unixtime из пункта 1.\n",
    "\n",
    "3. Исключить из расчета пользователей, у которых разница diff равна 0.\n",
    "\n",
    "4. Посчитать среднее значение столбца diff после фильтрации.\n",
    "\n",
    "5. Вы получите ответ в секундах. Пересчитайте его в количество дней.\n",
    "\n",
    "\"\"\""
   ]
  },
  {
   "cell_type": "code",
   "execution_count": 63,
   "metadata": {},
   "outputs": [],
   "source": [
    "data_1 = life_time.groupby('user_id').max()"
   ]
  },
  {
   "cell_type": "code",
   "execution_count": 64,
   "metadata": {},
   "outputs": [],
   "source": [
    "data_2 = life_time.groupby('user_id').min()"
   ]
  },
  {
   "cell_type": "code",
   "execution_count": 65,
   "metadata": {},
   "outputs": [
    {
     "data": {
      "text/html": [
       "<div>\n",
       "<style scoped>\n",
       "    .dataframe tbody tr th:only-of-type {\n",
       "        vertical-align: middle;\n",
       "    }\n",
       "\n",
       "    .dataframe tbody tr th {\n",
       "        vertical-align: top;\n",
       "    }\n",
       "\n",
       "    .dataframe thead th {\n",
       "        text-align: right;\n",
       "    }\n",
       "</style>\n",
       "<table border=\"1\" class=\"dataframe\">\n",
       "  <thead>\n",
       "    <tr style=\"text-align: right;\">\n",
       "      <th></th>\n",
       "      <th>id</th>\n",
       "      <th>date</th>\n",
       "      <th>duration</th>\n",
       "      <th>medium</th>\n",
       "      <th>source</th>\n",
       "      <th>cost</th>\n",
       "      <th>order_id</th>\n",
       "      <th>amount_paid</th>\n",
       "      <th>datetime</th>\n",
       "      <th>unixtime</th>\n",
       "    </tr>\n",
       "    <tr>\n",
       "      <th>user_id</th>\n",
       "      <th></th>\n",
       "      <th></th>\n",
       "      <th></th>\n",
       "      <th></th>\n",
       "      <th></th>\n",
       "      <th></th>\n",
       "      <th></th>\n",
       "      <th></th>\n",
       "      <th></th>\n",
       "      <th></th>\n",
       "    </tr>\n",
       "  </thead>\n",
       "  <tbody>\n",
       "    <tr>\n",
       "      <th>1010</th>\n",
       "      <td>40443</td>\n",
       "      <td>05.10.2016 23:18</td>\n",
       "      <td>0.000926</td>\n",
       "      <td>seo</td>\n",
       "      <td>google</td>\n",
       "      <td>0.00</td>\n",
       "      <td>6243</td>\n",
       "      <td>20.2</td>\n",
       "      <td>2016-10-05 23:18:00</td>\n",
       "      <td>1.475699e+09</td>\n",
       "    </tr>\n",
       "    <tr>\n",
       "      <th>1036</th>\n",
       "      <td>35044</td>\n",
       "      <td>09.10.2016 21:40</td>\n",
       "      <td>0.006493</td>\n",
       "      <td>sem</td>\n",
       "      <td>yandex</td>\n",
       "      <td>0.07</td>\n",
       "      <td>6145</td>\n",
       "      <td>15.6</td>\n",
       "      <td>2016-10-09 21:40:00</td>\n",
       "      <td>1.476038e+09</td>\n",
       "    </tr>\n",
       "    <tr>\n",
       "      <th>1041</th>\n",
       "      <td>40177</td>\n",
       "      <td>05.10.2016 3:23</td>\n",
       "      <td>0.003380</td>\n",
       "      <td>sem</td>\n",
       "      <td>yandex</td>\n",
       "      <td>0.03</td>\n",
       "      <td>6697</td>\n",
       "      <td>13.2</td>\n",
       "      <td>2016-10-05 23:19:00</td>\n",
       "      <td>1.475699e+09</td>\n",
       "    </tr>\n",
       "    <tr>\n",
       "      <th>1042</th>\n",
       "      <td>42099</td>\n",
       "      <td>08.10.2016 16:46</td>\n",
       "      <td>0.006493</td>\n",
       "      <td>seo</td>\n",
       "      <td>yandex</td>\n",
       "      <td>0.88</td>\n",
       "      <td>4510</td>\n",
       "      <td>24.4</td>\n",
       "      <td>2016-10-08 16:46:00</td>\n",
       "      <td>1.475934e+09</td>\n",
       "    </tr>\n",
       "    <tr>\n",
       "      <th>1047</th>\n",
       "      <td>40842</td>\n",
       "      <td>05.10.2016 21:41</td>\n",
       "      <td>0.001921</td>\n",
       "      <td>seo</td>\n",
       "      <td>yandex</td>\n",
       "      <td>1.86</td>\n",
       "      <td>4182</td>\n",
       "      <td>16.2</td>\n",
       "      <td>2016-10-05 21:41:00</td>\n",
       "      <td>1.475693e+09</td>\n",
       "    </tr>\n",
       "  </tbody>\n",
       "</table>\n",
       "</div>"
      ],
      "text/plain": [
       "            id              date  duration medium  source  cost  order_id  \\\n",
       "user_id                                                                     \n",
       "1010     40443  05.10.2016 23:18  0.000926    seo  google  0.00      6243   \n",
       "1036     35044  09.10.2016 21:40  0.006493    sem  yandex  0.07      6145   \n",
       "1041     40177   05.10.2016 3:23  0.003380    sem  yandex  0.03      6697   \n",
       "1042     42099  08.10.2016 16:46  0.006493    seo  yandex  0.88      4510   \n",
       "1047     40842  05.10.2016 21:41  0.001921    seo  yandex  1.86      4182   \n",
       "\n",
       "         amount_paid            datetime      unixtime  \n",
       "user_id                                                 \n",
       "1010            20.2 2016-10-05 23:18:00  1.475699e+09  \n",
       "1036            15.6 2016-10-09 21:40:00  1.476038e+09  \n",
       "1041            13.2 2016-10-05 23:19:00  1.475699e+09  \n",
       "1042            24.4 2016-10-08 16:46:00  1.475934e+09  \n",
       "1047            16.2 2016-10-05 21:41:00  1.475693e+09  "
      ]
     },
     "execution_count": 65,
     "metadata": {},
     "output_type": "execute_result"
    }
   ],
   "source": [
    "data_1.head()"
   ]
  },
  {
   "cell_type": "code",
   "execution_count": 66,
   "metadata": {},
   "outputs": [
    {
     "data": {
      "text/html": [
       "<div>\n",
       "<style scoped>\n",
       "    .dataframe tbody tr th:only-of-type {\n",
       "        vertical-align: middle;\n",
       "    }\n",
       "\n",
       "    .dataframe tbody tr th {\n",
       "        vertical-align: top;\n",
       "    }\n",
       "\n",
       "    .dataframe thead th {\n",
       "        text-align: right;\n",
       "    }\n",
       "</style>\n",
       "<table border=\"1\" class=\"dataframe\">\n",
       "  <thead>\n",
       "    <tr style=\"text-align: right;\">\n",
       "      <th></th>\n",
       "      <th>id</th>\n",
       "      <th>date</th>\n",
       "      <th>duration</th>\n",
       "      <th>medium</th>\n",
       "      <th>source</th>\n",
       "      <th>cost</th>\n",
       "      <th>order_id</th>\n",
       "      <th>amount_paid</th>\n",
       "      <th>datetime</th>\n",
       "      <th>unixtime</th>\n",
       "    </tr>\n",
       "    <tr>\n",
       "      <th>user_id</th>\n",
       "      <th></th>\n",
       "      <th></th>\n",
       "      <th></th>\n",
       "      <th></th>\n",
       "      <th></th>\n",
       "      <th></th>\n",
       "      <th></th>\n",
       "      <th></th>\n",
       "      <th></th>\n",
       "      <th></th>\n",
       "    </tr>\n",
       "  </thead>\n",
       "  <tbody>\n",
       "    <tr>\n",
       "      <th>1010</th>\n",
       "      <td>40443</td>\n",
       "      <td>05.10.2016 23:18</td>\n",
       "      <td>0.000926</td>\n",
       "      <td>seo</td>\n",
       "      <td>google</td>\n",
       "      <td>0.00</td>\n",
       "      <td>6243</td>\n",
       "      <td>20.2</td>\n",
       "      <td>2016-10-05 23:18:00</td>\n",
       "      <td>1.475699e+09</td>\n",
       "    </tr>\n",
       "    <tr>\n",
       "      <th>1036</th>\n",
       "      <td>35044</td>\n",
       "      <td>09.10.2016 21:40</td>\n",
       "      <td>0.006493</td>\n",
       "      <td>sem</td>\n",
       "      <td>yandex</td>\n",
       "      <td>0.07</td>\n",
       "      <td>6145</td>\n",
       "      <td>15.6</td>\n",
       "      <td>2016-10-09 21:40:00</td>\n",
       "      <td>1.476038e+09</td>\n",
       "    </tr>\n",
       "    <tr>\n",
       "      <th>1041</th>\n",
       "      <td>39401</td>\n",
       "      <td>05.10.2016 23:19</td>\n",
       "      <td>0.000463</td>\n",
       "      <td>email</td>\n",
       "      <td>promo</td>\n",
       "      <td>0.00</td>\n",
       "      <td>6128</td>\n",
       "      <td>9.8</td>\n",
       "      <td>2016-10-05 03:23:00</td>\n",
       "      <td>1.475627e+09</td>\n",
       "    </tr>\n",
       "    <tr>\n",
       "      <th>1042</th>\n",
       "      <td>35921</td>\n",
       "      <td>01.10.2016 23:29</td>\n",
       "      <td>0.000463</td>\n",
       "      <td>brand</td>\n",
       "      <td>burgerclub</td>\n",
       "      <td>0.00</td>\n",
       "      <td>2582</td>\n",
       "      <td>8.6</td>\n",
       "      <td>2016-10-01 04:57:00</td>\n",
       "      <td>1.475287e+09</td>\n",
       "    </tr>\n",
       "    <tr>\n",
       "      <th>1047</th>\n",
       "      <td>35331</td>\n",
       "      <td>01.10.2016 13:39</td>\n",
       "      <td>0.001644</td>\n",
       "      <td>cpa-partners</td>\n",
       "      <td>food-delivery</td>\n",
       "      <td>0.00</td>\n",
       "      <td>3802</td>\n",
       "      <td>12.4</td>\n",
       "      <td>2016-10-01 13:39:00</td>\n",
       "      <td>1.475318e+09</td>\n",
       "    </tr>\n",
       "  </tbody>\n",
       "</table>\n",
       "</div>"
      ],
      "text/plain": [
       "            id              date  duration        medium         source  cost  \\\n",
       "user_id                                                                         \n",
       "1010     40443  05.10.2016 23:18  0.000926           seo         google  0.00   \n",
       "1036     35044  09.10.2016 21:40  0.006493           sem         yandex  0.07   \n",
       "1041     39401  05.10.2016 23:19  0.000463         email          promo  0.00   \n",
       "1042     35921  01.10.2016 23:29  0.000463         brand     burgerclub  0.00   \n",
       "1047     35331  01.10.2016 13:39  0.001644  cpa-partners  food-delivery  0.00   \n",
       "\n",
       "         order_id  amount_paid            datetime      unixtime  \n",
       "user_id                                                           \n",
       "1010         6243         20.2 2016-10-05 23:18:00  1.475699e+09  \n",
       "1036         6145         15.6 2016-10-09 21:40:00  1.476038e+09  \n",
       "1041         6128          9.8 2016-10-05 03:23:00  1.475627e+09  \n",
       "1042         2582          8.6 2016-10-01 04:57:00  1.475287e+09  \n",
       "1047         3802         12.4 2016-10-01 13:39:00  1.475318e+09  "
      ]
     },
     "execution_count": 66,
     "metadata": {},
     "output_type": "execute_result"
    }
   ],
   "source": [
    "data_2.head()"
   ]
  },
  {
   "cell_type": "code",
   "execution_count": 72,
   "metadata": {},
   "outputs": [],
   "source": [
    "data_1['diff']= data_1['unixtime'] - data_2['unixtime']"
   ]
  },
  {
   "cell_type": "code",
   "execution_count": 73,
   "metadata": {},
   "outputs": [
    {
     "data": {
      "text/html": [
       "<div>\n",
       "<style scoped>\n",
       "    .dataframe tbody tr th:only-of-type {\n",
       "        vertical-align: middle;\n",
       "    }\n",
       "\n",
       "    .dataframe tbody tr th {\n",
       "        vertical-align: top;\n",
       "    }\n",
       "\n",
       "    .dataframe thead th {\n",
       "        text-align: right;\n",
       "    }\n",
       "</style>\n",
       "<table border=\"1\" class=\"dataframe\">\n",
       "  <thead>\n",
       "    <tr style=\"text-align: right;\">\n",
       "      <th></th>\n",
       "      <th>id</th>\n",
       "      <th>date</th>\n",
       "      <th>duration</th>\n",
       "      <th>medium</th>\n",
       "      <th>source</th>\n",
       "      <th>cost</th>\n",
       "      <th>order_id</th>\n",
       "      <th>amount_paid</th>\n",
       "      <th>datetime</th>\n",
       "      <th>unixtime</th>\n",
       "      <th>diff</th>\n",
       "    </tr>\n",
       "    <tr>\n",
       "      <th>user_id</th>\n",
       "      <th></th>\n",
       "      <th></th>\n",
       "      <th></th>\n",
       "      <th></th>\n",
       "      <th></th>\n",
       "      <th></th>\n",
       "      <th></th>\n",
       "      <th></th>\n",
       "      <th></th>\n",
       "      <th></th>\n",
       "      <th></th>\n",
       "    </tr>\n",
       "  </thead>\n",
       "  <tbody>\n",
       "    <tr>\n",
       "      <th>1010</th>\n",
       "      <td>40443</td>\n",
       "      <td>05.10.2016 23:18</td>\n",
       "      <td>0.000926</td>\n",
       "      <td>seo</td>\n",
       "      <td>google</td>\n",
       "      <td>0.00</td>\n",
       "      <td>6243</td>\n",
       "      <td>20.2</td>\n",
       "      <td>2016-10-05 23:18:00</td>\n",
       "      <td>1.475699e+09</td>\n",
       "      <td>0.0</td>\n",
       "    </tr>\n",
       "    <tr>\n",
       "      <th>1036</th>\n",
       "      <td>35044</td>\n",
       "      <td>09.10.2016 21:40</td>\n",
       "      <td>0.006493</td>\n",
       "      <td>sem</td>\n",
       "      <td>yandex</td>\n",
       "      <td>0.07</td>\n",
       "      <td>6145</td>\n",
       "      <td>15.6</td>\n",
       "      <td>2016-10-09 21:40:00</td>\n",
       "      <td>1.476038e+09</td>\n",
       "      <td>0.0</td>\n",
       "    </tr>\n",
       "    <tr>\n",
       "      <th>1041</th>\n",
       "      <td>40177</td>\n",
       "      <td>05.10.2016 3:23</td>\n",
       "      <td>0.003380</td>\n",
       "      <td>sem</td>\n",
       "      <td>yandex</td>\n",
       "      <td>0.03</td>\n",
       "      <td>6697</td>\n",
       "      <td>13.2</td>\n",
       "      <td>2016-10-05 23:19:00</td>\n",
       "      <td>1.475699e+09</td>\n",
       "      <td>71760.0</td>\n",
       "    </tr>\n",
       "    <tr>\n",
       "      <th>1042</th>\n",
       "      <td>42099</td>\n",
       "      <td>08.10.2016 16:46</td>\n",
       "      <td>0.006493</td>\n",
       "      <td>seo</td>\n",
       "      <td>yandex</td>\n",
       "      <td>0.88</td>\n",
       "      <td>4510</td>\n",
       "      <td>24.4</td>\n",
       "      <td>2016-10-08 16:46:00</td>\n",
       "      <td>1.475934e+09</td>\n",
       "      <td>647340.0</td>\n",
       "    </tr>\n",
       "    <tr>\n",
       "      <th>1047</th>\n",
       "      <td>40842</td>\n",
       "      <td>05.10.2016 21:41</td>\n",
       "      <td>0.001921</td>\n",
       "      <td>seo</td>\n",
       "      <td>yandex</td>\n",
       "      <td>1.86</td>\n",
       "      <td>4182</td>\n",
       "      <td>16.2</td>\n",
       "      <td>2016-10-05 21:41:00</td>\n",
       "      <td>1.475693e+09</td>\n",
       "      <td>374520.0</td>\n",
       "    </tr>\n",
       "  </tbody>\n",
       "</table>\n",
       "</div>"
      ],
      "text/plain": [
       "            id              date  duration medium  source  cost  order_id  \\\n",
       "user_id                                                                     \n",
       "1010     40443  05.10.2016 23:18  0.000926    seo  google  0.00      6243   \n",
       "1036     35044  09.10.2016 21:40  0.006493    sem  yandex  0.07      6145   \n",
       "1041     40177   05.10.2016 3:23  0.003380    sem  yandex  0.03      6697   \n",
       "1042     42099  08.10.2016 16:46  0.006493    seo  yandex  0.88      4510   \n",
       "1047     40842  05.10.2016 21:41  0.001921    seo  yandex  1.86      4182   \n",
       "\n",
       "         amount_paid            datetime      unixtime      diff  \n",
       "user_id                                                           \n",
       "1010            20.2 2016-10-05 23:18:00  1.475699e+09       0.0  \n",
       "1036            15.6 2016-10-09 21:40:00  1.476038e+09       0.0  \n",
       "1041            13.2 2016-10-05 23:19:00  1.475699e+09   71760.0  \n",
       "1042            24.4 2016-10-08 16:46:00  1.475934e+09  647340.0  \n",
       "1047            16.2 2016-10-05 21:41:00  1.475693e+09  374520.0  "
      ]
     },
     "execution_count": 73,
     "metadata": {},
     "output_type": "execute_result"
    }
   ],
   "source": [
    "data_1.head()"
   ]
  },
  {
   "cell_type": "code",
   "execution_count": 74,
   "metadata": {},
   "outputs": [],
   "source": [
    "data_res = data_1[data_1['diff']> 0.0]"
   ]
  },
  {
   "cell_type": "code",
   "execution_count": 82,
   "metadata": {},
   "outputs": [
    {
     "data": {
      "text/plain": [
       "3.485453869047619"
      ]
     },
     "execution_count": 82,
     "metadata": {},
     "output_type": "execute_result"
    }
   ],
   "source": [
    "data_res['diff'].mean()/(60*60*24)"
   ]
  }
 ],
 "metadata": {
  "kernelspec": {
   "display_name": "Python 3",
   "language": "python",
   "name": "python3"
  },
  "language_info": {
   "codemirror_mode": {
    "name": "ipython",
    "version": 3
   },
   "file_extension": ".py",
   "mimetype": "text/x-python",
   "name": "python",
   "nbconvert_exporter": "python",
   "pygments_lexer": "ipython3",
   "version": "3.7.1"
  }
 },
 "nbformat": 4,
 "nbformat_minor": 2
}
