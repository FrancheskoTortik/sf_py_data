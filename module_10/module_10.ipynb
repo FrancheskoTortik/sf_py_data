{
 "cells": [
  {
   "cell_type": "markdown",
   "metadata": {},
   "source": [
    "# Модуль 10. Объединение больших датафреймов"
   ]
  },
  {
   "cell_type": "code",
   "execution_count": 5,
   "metadata": {},
   "outputs": [
    {
     "name": "stdout",
     "output_type": "stream",
     "text": [
      "burgerclub\t1197\n",
      "city-magazine\t528\n",
      "facebook\t3144\n",
      "food-delivery\t1184\n",
      "foody\t421\n",
      "google\t10961\n",
      "newsletter\t637\n",
      "promo\t7405\n",
      "vk\t256\n",
      "yandex\t11757\n",
      "direct\t2156\n"
     ]
    }
   ],
   "source": [
    "with open('visits_by_source.txt', 'r') as file:\n",
    "    for x in file.readlines():\n",
    "        print(x.strip())"
   ]
  },
  {
   "cell_type": "code",
   "execution_count": 6,
   "metadata": {},
   "outputs": [
    {
     "name": "stdout",
     "output_type": "stream",
     "text": [
      "burgerclub\t10\t185\n",
      "city-magazine\t5\t81\n",
      "direct\t5\t88\n",
      "facebook\t5\t91\n",
      "food-delivery\t10\t173\n",
      "foody\t3\t66\n",
      "google\t77\t1319\n",
      "newsletter\t5\t98\n",
      "promo\t68\t1181\n",
      "vk\t2\t29\n",
      "yandex\t104\t1818\n"
     ]
    }
   ],
   "source": [
    "with open('orders_by_source.txt', 'r') as file:\n",
    "    for x in file.readlines():\n",
    "        print(x.strip())"
   ]
  },
  {
   "cell_type": "code",
   "execution_count": 15,
   "metadata": {},
   "outputs": [
    {
     "data": {
      "text/plain": [
       "'\\nДля получения определенного значения по названию источника отлично подойдет словарь.\\n\\nМожно было, например, поместить наши пары значений в набор листов и пробегать все его значения. Но это будет очень долго в случае больших файлов. К тому же если источника в файле покупок нет, то \"проход\" по этому листу будет впустую.\\n'"
      ]
     },
     "execution_count": 15,
     "metadata": {},
     "output_type": "execute_result"
    }
   ],
   "source": [
    "\"\"\"\n",
    "Для получения определенного значения по названию источника отлично подойдет словарь.\n",
    "\n",
    "Можно было, например, поместить наши пары значений в набор листов и пробегать все его значения. \n",
    "Но это будет очень долго в случае больших файлов. \n",
    "К тому же если источника в файле покупок нет, то \"проход\" по этому листу будет впустую.\n",
    "\"\"\""
   ]
  },
  {
   "cell_type": "code",
   "execution_count": 12,
   "metadata": {},
   "outputs": [
    {
     "name": "stdout",
     "output_type": "stream",
     "text": [
      "['burgerclub', '10', '185']\n",
      "['city-magazine', '5', '81']\n",
      "['direct', '5', '88']\n",
      "['facebook', '5', '91']\n",
      "['food-delivery', '10', '173']\n",
      "['foody', '3', '66']\n",
      "['google', '77', '1319']\n",
      "['newsletter', '5', '98']\n",
      "['promo', '68', '1181']\n",
      "['vk', '2', '29']\n",
      "['yandex', '104', '1818']\n"
     ]
    }
   ],
   "source": [
    "orders_dict = {}\n",
    "with open('orders_by_source.txt', 'r') as f:\n",
    "    for line in f:\n",
    "        line = line.strip().split('\\t')    \n",
    "        source = line[0]\n",
    "        order_count = line[1]\n",
    "        orders_dict[source] = int(order_count)\n",
    "        print(line)\n",
    "        "
   ]
  },
  {
   "cell_type": "code",
   "execution_count": 14,
   "metadata": {},
   "outputs": [
    {
     "data": {
      "text/plain": [
       "{'burgerclub': 10,\n",
       " 'city-magazine': 5,\n",
       " 'direct': 5,\n",
       " 'facebook': 5,\n",
       " 'food-delivery': 10,\n",
       " 'foody': 3,\n",
       " 'google': 77,\n",
       " 'newsletter': 5,\n",
       " 'promo': 68,\n",
       " 'vk': 2,\n",
       " 'yandex': 104}"
      ]
     },
     "execution_count": 14,
     "metadata": {},
     "output_type": "execute_result"
    }
   ],
   "source": [
    "orders_dict"
   ]
  },
  {
   "cell_type": "code",
   "execution_count": 22,
   "metadata": {},
   "outputs": [],
   "source": [
    "def searchForLine(source, orders_dict=orders_dict):\n",
    "    if source in orders_dict.keys():\n",
    "        return orders_dict[source]\n",
    "    return 0\n",
    "    "
   ]
  },
  {
   "cell_type": "code",
   "execution_count": 23,
   "metadata": {},
   "outputs": [
    {
     "data": {
      "text/plain": [
       "10"
      ]
     },
     "execution_count": 23,
     "metadata": {},
     "output_type": "execute_result"
    }
   ],
   "source": [
    "searchForLine('burgerclub')"
   ]
  },
  {
   "cell_type": "code",
   "execution_count": 24,
   "metadata": {},
   "outputs": [
    {
     "data": {
      "text/plain": [
       "0"
      ]
     },
     "execution_count": 24,
     "metadata": {},
     "output_type": "execute_result"
    }
   ],
   "source": [
    "searchForLine('sasdas')"
   ]
  },
  {
   "cell_type": "code",
   "execution_count": 33,
   "metadata": {},
   "outputs": [
    {
     "name": "stdout",
     "output_type": "stream",
     "text": [
      "burgerclub 1197 10 0.00835421888053467\n",
      "city-magazine 528 5 0.00946969696969697\n",
      "facebook 3144 5 0.0015903307888040711\n",
      "food-delivery 1184 10 0.008445945945945946\n",
      "foody 421 3 0.007125890736342043\n",
      "google 10961 77 0.007024906486634432\n",
      "newsletter 637 5 0.007849293563579277\n",
      "promo 7405 68 0.009182984469952735\n",
      "vk 256 2 0.0078125\n",
      "yandex 11757 104 0.008845793995066768\n",
      "direct 2156 5 0.002319109461966605\n"
     ]
    }
   ],
   "source": [
    "with open('visits_by_source.txt', 'r') as file:\n",
    "    for x in file.readlines():\n",
    "      \n",
    "        source = x.strip().split('\\t')[0]\n",
    "        visits = int(x.strip().split('\\t')[1])\n",
    "        orders = int(orders_dict[source])\n",
    "        print(source, visits, orders, orders / visits)\n",
    "        "
   ]
  },
  {
   "cell_type": "code",
   "execution_count": 34,
   "metadata": {},
   "outputs": [],
   "source": [
    "with open('joined_by_source.txt', 'w') as f_joined:\n",
    "    with open('visits_by_source.txt', 'r') as f:\n",
    "        for line in f:\n",
    "            line = line.strip().split('\\t')\n",
    "            source = line[0]\n",
    "            visits = int(line[1])\n",
    "            orders = searchForLine( source, orders_dict )\n",
    "            f_joined.write('{}\\t{}\\t{}\\n'.format( source, visits, orders) )"
   ]
  },
  {
   "cell_type": "code",
   "execution_count": 53,
   "metadata": {},
   "outputs": [],
   "source": [
    "source_list = []\n",
    "visit_list = []\n",
    "orders_list = []\n",
    "convesion_list = []\n",
    "with open('oreder1.txt', 'w') as f_joined:\n",
    "    f_joined.write('{}\\t{}\\t{}\\t{}\\n'.format( 'source', 'visits', 'orders', 'conversions'))\n",
    "    with open('visits_by_source.txt', 'r') as f:\n",
    "        for line in f:\n",
    "            line = line.strip().split('\\t')\n",
    "            source = line[0]\n",
    "            source_list.append(source)\n",
    "            visits = int(line[1])\n",
    "            visit_list.append(visits)\n",
    "            orders = searchForLine( source, orders_dict )\n",
    "            orders_list.append(orders)\n",
    "            convesion = round(orders / visits, 3)\n",
    "            convesion_list.append(convesion)\n",
    "            f_joined.write('{}\\t{}\\t{}\\t{}\\n'.format( source, visits, orders, convesion ))"
   ]
  },
  {
   "cell_type": "code",
   "execution_count": 57,
   "metadata": {},
   "outputs": [
    {
     "data": {
      "text/plain": [
       "[1197, 528, 3144, 1184, 421, 10961, 637, 7405, 256, 11757, 2156]"
      ]
     },
     "execution_count": 57,
     "metadata": {},
     "output_type": "execute_result"
    }
   ],
   "source": [
    "import pandas as pd\n",
    "visit_list"
   ]
  },
  {
   "cell_type": "code",
   "execution_count": 68,
   "metadata": {},
   "outputs": [],
   "source": [
    "data = pd.read_csv('oreder1.txt', sep='\\t')"
   ]
  },
  {
   "cell_type": "code",
   "execution_count": 75,
   "metadata": {},
   "outputs": [
    {
     "data": {
      "text/plain": [
       "0.007"
      ]
     },
     "execution_count": 75,
     "metadata": {},
     "output_type": "execute_result"
    }
   ],
   "source": [
    "round(data['conversions'].mean(),3)"
   ]
  },
  {
   "cell_type": "markdown",
   "metadata": {},
   "source": [
    "# Объединение таблиц по двум измерениям"
   ]
  },
  {
   "cell_type": "code",
   "execution_count": 76,
   "metadata": {},
   "outputs": [
    {
     "name": "stdout",
     "output_type": "stream",
     "text": [
      "{'google': 1}\n"
     ]
    }
   ],
   "source": [
    "orders_dict = {}\n",
    "if 'google' in orders_dict:\n",
    "    orders_dict['google'] += 1\n",
    "else:\n",
    "    orders_dict['google'] = 1\n",
    "print(orders_dict)\n"
   ]
  },
  {
   "cell_type": "markdown",
   "metadata": {},
   "source": [
    "### Метод Setdefault\n",
    "##### Можно переписать этот код с помощью метода setdefault. Этот метод проверяет есть ли в словаре указанный ключ 'google'. Если есть, то оставляет соответствующее значение ключа прежним. Если ключа не оказалось, то подставляет указанное нами значение (в примере это значение 0). Тем самым после применения метода setdefault можно смело использовать прибавление 1 к ключу 'google'."
   ]
  },
  {
   "cell_type": "code",
   "execution_count": 77,
   "metadata": {},
   "outputs": [],
   "source": [
    "orders_dict = {}\n",
    "orders_dict.setdefault('google', 0)\n",
    "orders_dict['google'] += 1"
   ]
  },
  {
   "cell_type": "code",
   "execution_count": 78,
   "metadata": {},
   "outputs": [],
   "source": [
    "orders_dict = {}\n",
    "with open('orders_by_source_and_medium.txt', 'r') as f:\n",
    "    for line in f:\n",
    "        line = line.strip().split('\\t')       \n",
    "        source = line[0]\n",
    "        medium = line[1]\n",
    "        orders_count = int( line[2] )      \n",
    "        orders_dict.setdefault(source, {})\n",
    "        orders_dict[source].setdefault(medium, 0)      \n",
    "        orders_dict[source][medium] = orders_count"
   ]
  },
  {
   "cell_type": "code",
   "execution_count": 79,
   "metadata": {},
   "outputs": [
    {
     "data": {
      "text/plain": [
       "{'burgerclub': {'cpa-partners': 10},\n",
       " 'city-magazine': {'cpc-partners': 5},\n",
       " 'direct': {'brand': 5},\n",
       " 'facebook': {'smm': 5},\n",
       " 'food-delivery': {'cpa-partners': 10},\n",
       " 'foody': {'cpc-partners': 3},\n",
       " 'google': {'brand': 6, 'sem': 56, 'seo': 15},\n",
       " 'newsletter': {'email': 5},\n",
       " 'promo': {'email': 68},\n",
       " 'vk': {'smm': 2},\n",
       " 'yandex': {'brand': 7, 'sem': 67, 'seo': 30}}"
      ]
     },
     "execution_count": 79,
     "metadata": {},
     "output_type": "execute_result"
    }
   ],
   "source": [
    "orders_dict"
   ]
  },
  {
   "cell_type": "code",
   "execution_count": 81,
   "metadata": {},
   "outputs": [],
   "source": [
    "def searchForLine(source, medium, orders_dict = orders_dict):\n",
    "    if source in orders_dict.keys():\n",
    "        if medium in orders_dict[source].keys():\n",
    "            return orders_dict[source][medium]\n",
    "    else:\n",
    "        return 0\n",
    "    "
   ]
  },
  {
   "cell_type": "code",
   "execution_count": 83,
   "metadata": {},
   "outputs": [
    {
     "data": {
      "text/plain": [
       "56"
      ]
     },
     "execution_count": 83,
     "metadata": {},
     "output_type": "execute_result"
    }
   ],
   "source": [
    "searchForLine('google', 'sem')"
   ]
  },
  {
   "cell_type": "markdown",
   "metadata": {},
   "source": [
    "# Рекурсия!!!!!\n"
   ]
  },
  {
   "cell_type": "code",
   "execution_count": 96,
   "metadata": {},
   "outputs": [],
   "source": [
    "def factorial_func(n):\n",
    "    \"\"\"\n",
    "    Функция для расчета факториала числа\n",
    "    \"\"\"\n",
    "    if n > 1:\n",
    "        return n* factorial_func(n-1)\n",
    "    else:\n",
    "        return n\n",
    "    "
   ]
  },
  {
   "cell_type": "code",
   "execution_count": 97,
   "metadata": {},
   "outputs": [
    {
     "name": "stdout",
     "output_type": "stream",
     "text": [
      "24\n"
     ]
    }
   ],
   "source": [
    "print(factorial_func(4))"
   ]
  },
  {
   "cell_type": "code",
   "execution_count": 108,
   "metadata": {},
   "outputs": [],
   "source": [
    "def fulllevels(lineRemainer):\n",
    "    dict2full = {}\n",
    "    if len(lineRemainer) > 1 :\n",
    "        dict2full[lineRemainer[0]] = fulllevels(lineRemainer[1:])\n",
    "    else:\n",
    "        return lineRemainer[0]\n",
    "    return dict2full"
   ]
  },
  {
   "cell_type": "code",
   "execution_count": 109,
   "metadata": {},
   "outputs": [
    {
     "data": {
      "text/plain": [
       "{'2016-10-01': {'burgerclub': {'cpa-partners': 1}}}"
      ]
     },
     "execution_count": 109,
     "metadata": {},
     "output_type": "execute_result"
    }
   ],
   "source": [
    " fulllevels( ['2016-10-01', 'burgerclub', 'cpa-partners', 1] )"
   ]
  },
  {
   "cell_type": "code",
   "execution_count": 110,
   "metadata": {},
   "outputs": [],
   "source": [
    "data = [\n",
    "    ['2016-10-01', 'google', 'sem', 5],\n",
    "    ['2016-10-01', 'google', 'seo', 1],\n",
    "    ['2016-10-01', 'newsletter', 'email', 1]\n",
    "]"
   ]
  },
  {
   "cell_type": "code",
   "execution_count": 112,
   "metadata": {},
   "outputs": [
    {
     "data": {
      "text/plain": [
       "{'2016-10-01': {'google': {'sem': 5}}}"
      ]
     },
     "execution_count": 112,
     "metadata": {},
     "output_type": "execute_result"
    }
   ],
   "source": [
    "fulllevels(data[0])"
   ]
  },
  {
   "cell_type": "markdown",
   "metadata": {},
   "source": [
    "# Проверяем по уровням есть ли там ключи"
   ]
  },
  {
   "cell_type": "code",
   "execution_count": 125,
   "metadata": {},
   "outputs": [],
   "source": [
    "def checkLevels( levelDict, level, line ):\n",
    "    if line[ level ] in levelDict:\n",
    "        checkLevels( levelDict[ line[ level ] ], level + 1, line )\n",
    "        return levelDict\n",
    "    else:\n",
    "        levelDict[ line[ level ] ] =  fulllevels( line[ level + 1: ] )\n",
    "        return levelDict"
   ]
  },
  {
   "cell_type": "markdown",
   "metadata": {},
   "source": [
    "# Создаем словарь большой волженности."
   ]
  },
  {
   "cell_type": "code",
   "execution_count": 126,
   "metadata": {},
   "outputs": [
    {
     "name": "stdout",
     "output_type": "stream",
     "text": [
      "{'2018-01-01': {'google': {'cpc': {'ДФО': {'кампания_1': {'Хабаровск': 114, 'Магадан': 436}, 'кампания_2': {'Владивосток': 536}}}}}}\n"
     ]
    }
   ],
   "source": [
    "data = [\n",
    "\n",
    "['2018-01-01', 'google', 'cpc', 'ДФО', 'кампания_1', 'Хабаровск', 114],\n",
    "\n",
    "['2018-01-01', 'google', 'cpc', 'ДФО', 'кампания_2', 'Владивосток', 536],\n",
    "\n",
    "['2018-01-01', 'google', 'cpc', 'ДФО', 'кампания_1', 'Магадан', 436]\n",
    "\n",
    "]\n",
    "data_dict = {}\n",
    "for line in data:\n",
    "    data_dict = checkLevels(data_dict, 0, line)\n",
    "print(data_dict)"
   ]
  },
  {
   "cell_type": "markdown",
   "metadata": {},
   "source": [
    "# Поиск покупок в таблице\n",
    "#### Словарь готов, а это значит, основная часть задачи выполнена. Осталось написать функцию поиска количества покупок по трем значениям: дата покупки, источник и канал. Реализуем следующий алгорим: будем последовательно проверять наличие ключа с данной датой, источником или каналом в словаре data_dict. Если хотя бы одного ключа не окажется, то можем сразу возвращать 0 покупок. Это существенно ускорит наш поиск в случае присутствия больших таблиц."
   ]
  },
  {
   "cell_type": "code",
   "execution_count": 127,
   "metadata": {},
   "outputs": [],
   "source": [
    "def findLineValue( finalDict, line ):\n",
    "    if len( line ) > 1:\n",
    "        if line[ 0 ] in finalDict:\n",
    "            return findLineValue( finalDict[ line[ 0 ] ], line[1:] )\n",
    "        else:\n",
    "            return 0\n",
    "    else:\n",
    "        if line[0] in finalDict:\n",
    "            return finalDict[ line[0] ]\n",
    "        else:\n",
    "            return 0"
   ]
  },
  {
   "cell_type": "code",
   "execution_count": 128,
   "metadata": {},
   "outputs": [
    {
     "data": {
      "text/plain": [
       "0"
      ]
     },
     "execution_count": 128,
     "metadata": {},
     "output_type": "execute_result"
    }
   ],
   "source": [
    "findLineValue( data_dict, ['2016-10-01', 'google', 'sem'] )"
   ]
  },
  {
   "cell_type": "code",
   "execution_count": 130,
   "metadata": {},
   "outputs": [
    {
     "data": {
      "text/plain": [
       "0.02"
      ]
     },
     "execution_count": 130,
     "metadata": {},
     "output_type": "execute_result"
    }
   ],
   "source": [
    "536/26800"
   ]
  },
  {
   "cell_type": "code",
   "execution_count": null,
   "metadata": {},
   "outputs": [],
   "source": []
  }
 ],
 "metadata": {
  "kernelspec": {
   "display_name": "Python 3",
   "language": "python",
   "name": "python3"
  },
  "language_info": {
   "codemirror_mode": {
    "name": "ipython",
    "version": 3
   },
   "file_extension": ".py",
   "mimetype": "text/x-python",
   "name": "python",
   "nbconvert_exporter": "python",
   "pygments_lexer": "ipython3",
   "version": "3.7.1"
  }
 },
 "nbformat": 4,
 "nbformat_minor": 2
}
